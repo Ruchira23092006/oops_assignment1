{
 "cells": [
  {
   "cell_type": "code",
   "execution_count": null,
   "id": "8952ad2e-3900-493c-85c4-3e7b85710443",
   "metadata": {},
   "outputs": [],
   "source": [
    "Q1. Explain Class and Object with respect to Object-Oriented Programming. Give a suitable example.\n",
    "Q2. Name the four pillars of OOPs.\n",
    "Q3. Explain why the __init__() function is used. Give a suitable example.\n",
    "Q4. Why self is used in OOPs?\n",
    "Q5. What is inheritance? Give an example for each type of inheritance."
   ]
  },
  {
   "cell_type": "code",
   "execution_count": null,
   "id": "1aae2a16-1589-4b9d-af69-e7a9fd1cf48c",
   "metadata": {},
   "outputs": [],
   "source": [
    "1.A Class is like an object constructor, or a \"blueprint\" for creating objects.\n",
    "To create a class, use the keyword class:\n",
    "An object is an instance of a class,created at runtime.\n",
    "Objects contain data and methods that operate on that data.\n"
   ]
  },
  {
   "cell_type": "code",
   "execution_count": 1,
   "id": "27315844-780f-4a8d-ac3c-b232f30a9261",
   "metadata": {},
   "outputs": [
    {
     "name": "stdout",
     "output_type": "stream",
     "text": [
      "John\n",
      "36\n"
     ]
    }
   ],
   "source": [
    "class Person:\n",
    "  def __init__(self, name, age):\n",
    "    self.name = name\n",
    "    self.age = age\n",
    "\n",
    "p1 = Person(\"John\", 36)\n",
    "\n",
    "print(p1.name)\n",
    "print(p1.age)"
   ]
  },
  {
   "cell_type": "code",
   "execution_count": null,
   "id": "2811d5c7-8f18-4731-a6a2-1100eb9fb318",
   "metadata": {},
   "outputs": [],
   "source": [
    "2.The four pillars of OOPS are:\n",
    "Abstraction\n",
    "Encapsulation\n",
    "Inheritance\n",
    "Polymorphism"
   ]
  },
  {
   "cell_type": "code",
   "execution_count": null,
   "id": "ddb5bf74-8366-438b-bba9-08d305e503db",
   "metadata": {},
   "outputs": [],
   "source": [
    "3.All classes have a function called __init__(), which is always executed when\n",
    "the class is being initiated.\n",
    "Use the __init__() function to assign values to object properties, or other\n",
    "operations that are necessary to do when the object is being created:"
   ]
  },
  {
   "cell_type": "code",
   "execution_count": null,
   "id": "c86086a7-5521-4e68-9b0d-fbeec352e773",
   "metadata": {},
   "outputs": [],
   "source": [
    "class pwskills1:\n",
    "    \n",
    "    def __init__(self ,phone_number , email_id, student_id ):\n",
    "        \n",
    "        self.phone_number = phone_number\n",
    "        self.email_id = email_id\n",
    "        self.student_id = student_id\n",
    "        \n",
    "    \n",
    "    def return_student_detials(self):\n",
    "        return self.phone_number, self.email_id , self.student_id\n",
    "sohan = pwskills1(999679869 , \"sohan@gmail.com\" , 102)\n",
    "sohan.phone_number"
   ]
  },
  {
   "cell_type": "code",
   "execution_count": null,
   "id": "22188fcf-7a9b-4da4-b987-9d23cb26e5a7",
   "metadata": {},
   "outputs": [],
   "source": [
    "4. self is a reference to the instance of an object in Python. It is used as the first\n",
    "argument in the methods of a class to refer to the instance of the object being processed."
   ]
  },
  {
   "cell_type": "code",
   "execution_count": null,
   "id": "c1c6dea6-03fa-4309-966e-0ffa66c88306",
   "metadata": {},
   "outputs": [],
   "source": [
    "class Person:\n",
    "    def __init__(self, name, age):\n",
    "        self.name = name\n",
    "        self.age = age\n",
    "    \n",
    "    def set_name(self, name):\n",
    "        self.name = name\n",
    "    \n",
    "    def set_age(self, age):\n",
    "        self.age = age"
   ]
  },
  {
   "cell_type": "code",
   "execution_count": null,
   "id": "1f26499d-3056-41ea-be45-5773b86dec3c",
   "metadata": {},
   "outputs": [],
   "source": [
    "Inheritance is a concept in object-oriented programming that allows a new class to be\n",
    "defined as a modification of an existing class, retaining some or all of its behavior.\n",
    "The new class is called the derived class or subclass and the existing class is called\n",
    "the base class."
   ]
  },
  {
   "cell_type": "code",
   "execution_count": null,
   "id": "768c2814-1d5f-43cc-89c8-81f6bc71746f",
   "metadata": {},
   "outputs": [],
   "source": [
    "#Single Ingeritance\n",
    "class Animal:\n",
    "    def __init__(self, species):\n",
    "        self.species = species\n",
    "    \n",
    "    def make_sound(self):\n",
    "        print(\"Some animal sound\")\n",
    "\n",
    "class Dog(Animal):\n",
    "    def __init__(self, breed):\n",
    "        Animal.__init__(self, \"Dog\")\n",
    "        self.breed = breed\n",
    "    \n",
    "    def make_sound(self):\n",
    "        print(\"Bark\")\n",
    "        \n",
    "#Multiple Inheritance\n",
    "class Animal:\n",
    "    def __init__(self, species):\n",
    "        self.species = species\n",
    "    \n",
    "    def make_sound(self):\n",
    "        print(\"Some animal sound\")\n",
    "\n",
    "class Mammal:\n",
    "    def __init__(self, hair):\n",
    "        self.hair = hair\n",
    "    \n",
    "    def make_sound(self):\n",
    "        print(\"Some mammal sound\")\n",
    "\n",
    "class Dog(Animal, Mammal):\n",
    "    def __init__(self, breed):\n",
    "        Animal.__init__(self, \"Dog\")\n",
    "        Mammal.__init__(self, True)\n",
    "        self.breed = breed\n",
    "    \n",
    "    def make_sound(self):\n",
    "        print(\"Bark\")\n",
    "\n",
    "\n",
    "# Multi-level inheritance\n",
    "class Animal:\n",
    "    def __init__(self, species):\n",
    "        self.species = species\n",
    "    \n",
    "    def make_sound(self):\n",
    "        print(\"Some animal sound\")\n",
    "\n",
    "class Mammal(Animal):\n",
    "    def __init__(self, hair):\n",
    "        Animal.__init__(self, \"Mammal\")\n",
    "        self.hair = hair\n",
    "    \n",
    "    def make_sound(self):\n",
    "        print(\"Some mammal sound\")\n",
    "\n",
    "class Dog(Mammal):\n",
    "    def __init__(self, breed):\n",
    "        Mammal.__init__(self, True)\n",
    "        self.breed = breed\n",
    "    \n",
    "    def make_sound(self):\n",
    "        print(\"Bark\")\n",
    "\n"
   ]
  }
 ],
 "metadata": {
  "kernelspec": {
   "display_name": "Python 3 (ipykernel)",
   "language": "python",
   "name": "python3"
  },
  "language_info": {
   "codemirror_mode": {
    "name": "ipython",
    "version": 3
   },
   "file_extension": ".py",
   "mimetype": "text/x-python",
   "name": "python",
   "nbconvert_exporter": "python",
   "pygments_lexer": "ipython3",
   "version": "3.10.8"
  }
 },
 "nbformat": 4,
 "nbformat_minor": 5
}
